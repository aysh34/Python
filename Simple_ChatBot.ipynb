{
  "nbformat": 4,
  "nbformat_minor": 0,
  "metadata": {
    "colab": {
      "provenance": [],
      "include_colab_link": true
    },
    "kernelspec": {
      "name": "python3",
      "display_name": "Python 3"
    },
    "language_info": {
      "name": "python"
    }
  },
  "cells": [
    {
      "cell_type": "markdown",
      "metadata": {
        "id": "view-in-github",
        "colab_type": "text"
      },
      "source": [
        "<a href=\"https://colab.research.google.com/github/aysh34/Python_assignments/blob/main/Simple_ChatBot.ipynb\" target=\"_parent\"><img src=\"https://colab.research.google.com/assets/colab-badge.svg\" alt=\"Open In Colab\"/></a>"
      ]
    },
    {
      "cell_type": "code",
      "execution_count": null,
      "metadata": {
        "id": "GPo9w_E84fNK"
      },
      "outputs": [],
      "source": [
        "import streamlit as st\n",
        "import google.generativeai as genai\n",
        "\n",
        "# Configure the API key\n",
        "GOOGLE_API_KEY = <Your API Key>\n",
        "genai.configure(api_key=GOOGLE_API_KEY)\n",
        "\n",
        "# Initialize the Generative Model\n",
        "# model = genai.GenerativeModel('gemini-pro')\n",
        "model = genai.GenerativeModel('gemini-1.5-flash')\n",
        "# Function to get response from the model\n",
        "def get_chatbot_response(user_input):\n",
        "    response = model.generate_content(user_input)\n",
        "    return response.text\n",
        "\n",
        "# Streamlit interface\n",
        "st.set_page_config(page_title=\"Simple ChatBot\", layout=\"centered\")\n",
        "\n",
        "st.title(\"Simple ChatBot App\")\n",
        "st.write(\"Powered by Google Generative AI\")\n",
        "\n",
        "if \"history\" not in st.session_state:\n",
        "    st.session_state[\"history\"] = []\n",
        "\n",
        "# Display chat history\n",
        "for user_message, bot_message in st.session_state.history:\n",
        "    st.markdown(f\"\"\"\n",
        "    <div style=\"\n",
        "        background-color: #d1d3e0;\n",
        "        border-radius: 15px;\n",
        "        padding: 10px 15px;\n",
        "        margin: 5px 0;\n",
        "        max-width: 70%;\n",
        "        text-align: left;\n",
        "        display: inline-block;\n",
        "    \">\n",
        "        <p style=\"margin: 0; font-size: 16px; line-height: 1.5;\"><b>You:</b> {user_message} 😊</p>\n",
        "    </div>\n",
        "    \"\"\", unsafe_allow_html=True)\n",
        "\n",
        "    st.markdown(f\"\"\"\n",
        "    <div style=\"\n",
        "        background-color: #e1ffc7;\n",
        "        border-radius: 15px;\n",
        "        padding: 10px 15px;\n",
        "        margin: 5px 0;\n",
        "        max-width: 70%;\n",
        "        text-align: left;\n",
        "        display: inline-block;\n",
        "    \">\n",
        "        <p style=\"margin: 0; font-size: 16px; line-height: 1.5;\"><b>Bot:</b> {bot_message} 🤖</p>\n",
        "    </div>\n",
        "    \"\"\", unsafe_allow_html=True)\n",
        "\n",
        "# user_input = input(\"Enter your Prompt = \")\n",
        "# output = get_chatbot_response(user_input)\n",
        "\n",
        "# print(output)\n",
        "\n",
        "with st.form(key=\"chat_form\", clear_on_submit=True):\n",
        "    user_input = st.text_input(\"\", max_chars=2000)\n",
        "    submit_button = st.form_submit_button(\"Send\")\n",
        "\n",
        "    if submit_button:\n",
        "        if user_input:\n",
        "            response = get_chatbot_response(user_input)\n",
        "            st.session_state.history.append((user_input, response))\n",
        "        else:\n",
        "            st.warning(\"Please Enter A Prompt\")"
      ]
    }
  ]
}
